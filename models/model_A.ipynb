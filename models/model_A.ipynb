{
 "cells": [
  {
   "cell_type": "markdown",
   "metadata": {
    "vscode": {
     "languageId": "julia"
    }
   },
   "source": [
    "# Model A"
   ]
  },
  {
   "cell_type": "code",
   "execution_count": 5,
   "metadata": {},
   "outputs": [
    {
     "name": "stderr",
     "output_type": "stream",
     "text": [
      "WARNING: replacing module EUROml.\n"
     ]
    }
   ],
   "source": [
    "# Load required packages\n",
    "include(\"../src/EUROml.jl\")\n",
    "using Dates, JLD2, .EUROml"
   ]
  },
  {
   "cell_type": "code",
   "execution_count": 3,
   "metadata": {},
   "outputs": [
    {
     "data": {
      "text/plain": [
       "EuroModel(\n",
       "    embedding = Embedding(247 => 6),    \u001b[90m# 1_482 parameters\u001b[39m\n",
       "    core = Chain(\n",
       "        layer_1 = Dropout(0.1),\n",
       "        layer_2 = Dense(14 => 8, relu),  \u001b[90m# 120 parameters\u001b[39m\n",
       "        layer_3 = Dense(8 => 4, relu),  \u001b[90m# 36 parameters\u001b[39m\n",
       "        layer_4 = Dense(4 => 2),        \u001b[90m# 10 parameters\u001b[39m\n",
       "    ),\n",
       ") \u001b[90m        # Total: \u001b[39m1_648 parameters,\n",
       "\u001b[90m          #        plus \u001b[39m2 states."
      ]
     },
     "metadata": {},
     "output_type": "display_data"
    },
    {
     "name": "stderr",
     "output_type": "stream",
     "text": [
      "┌ Warning: `replicate` doesn't work for `TaskLocalRNG`. Returning the same `TaskLocalRNG`.\n",
      "└ @ LuxCore /home/sebastian/.julia/packages/LuxCore/qiHPC/src/LuxCore.jl:15\n"
     ]
    }
   ],
   "source": [
    "# Load data\n",
    "results, scorers, shootouts = EUROml.load_data(dir=\"..\")\n",
    "data, team2id, id2team = EUROml.convert_data(results, scorers, shootouts;output=false)\n",
    "\n",
    "# Build model\n",
    "model_build = EUROml.build_model_A(maximum(data.id_home_team))"
   ]
  },
  {
   "cell_type": "code",
   "execution_count": 4,
   "metadata": {},
   "outputs": [],
   "source": [
    "# Train model\n",
    "model, stats, tstate = EUROml.train_model(model_build,data;epochs=500,batch_size=1024,name=\"./model_A\")\n",
    "jldsave(\"./model_A.jld2\";model,stats,tstate)"
   ]
  },
  {
   "cell_type": "code",
   "execution_count": 6,
   "metadata": {},
   "outputs": [],
   "source": [
    "# Load model\n",
    "file = load(\"./model_A.jld2\")\n",
    "model = file[\"model\"]\n",
    "stats = file[\"stats\"]\n",
    "tstate = file[\"tstate\"]\n",
    "\n",
    "# Predict all matches \n",
    "EUROml.predict_games(model,team2id;name=\"model_A\",root_dir=\"..\")"
   ]
  }
 ],
 "metadata": {
  "kernelspec": {
   "display_name": "Julia 1.10.2",
   "language": "julia",
   "name": "julia-1.10"
  },
  "language_info": {
   "file_extension": ".jl",
   "mimetype": "application/julia",
   "name": "julia",
   "version": "1.10.2"
  }
 },
 "nbformat": 4,
 "nbformat_minor": 2
}
